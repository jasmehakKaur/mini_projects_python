{
 "cells": [
  {
   "cell_type": "markdown",
   "metadata": {},
   "source": [
    "### Question 1: Create and display a list (L) of 20 random numbers ranging between 1 to 10."
   ]
  },
  {
   "cell_type": "code",
   "execution_count": 1,
   "metadata": {},
   "outputs": [
    {
     "name": "stdout",
     "output_type": "stream",
     "text": [
      "[2, 7, 5, 1, 5, 7, 4, 4, 7, 8, 5, 8, 4, 9, 3, 8, 1, 8, 10, 9]\n"
     ]
    }
   ],
   "source": [
    "import random as r\n",
    "L=[]\n",
    "for i in range(0,20):\n",
    "    L.append(r.randint(1, 10))\n",
    "print(L)    \n"
   ]
  },
  {
   "cell_type": "markdown",
   "metadata": {},
   "source": [
    "### Question 2: Generate a random number and store it in k (between 1 to 10). Display all random numbers except k in list L."
   ]
  },
  {
   "cell_type": "code",
   "execution_count": 2,
   "metadata": {},
   "outputs": [
    {
     "name": "stdout",
     "output_type": "stream",
     "text": [
      "k= 8\n",
      "2\n",
      "7\n",
      "5\n",
      "1\n",
      "5\n",
      "7\n",
      "4\n",
      "4\n",
      "7\n",
      "5\n",
      "4\n",
      "9\n",
      "3\n",
      "1\n",
      "10\n",
      "9\n"
     ]
    }
   ],
   "source": [
    "import random as r\n",
    "k=r.randint(1,10)\n",
    "print(\"k=\",k)\n",
    "for i in range(0,20):\n",
    "    if (L[i]==k):\n",
    "        continue\n",
    "    else:\n",
    "        print(L[i])"
   ]
  },
  {
   "cell_type": "markdown",
   "metadata": {},
   "source": [
    "## Question 3: Remove those elements from list L that are equal to k. Display the elements of modified list L."
   ]
  },
  {
   "cell_type": "code",
   "execution_count": 5,
   "metadata": {},
   "outputs": [
    {
     "name": "stdout",
     "output_type": "stream",
     "text": [
      "k= 8\n",
      "[2, 7, 5, 1, 5, 7, 4, 4, 7, 5, 4, 9, 3, 1, 10, 9]\n"
     ]
    }
   ],
   "source": [
    "print(\"k=\",k)\n",
    "for i in range(0,20):\n",
    "    if (L[i]==k):\n",
    "        L.pop(i)\n",
    "        \n",
    "print(L)"
   ]
  },
  {
   "cell_type": "markdown",
   "metadata": {},
   "source": [
    "## Question 4: Enter an input string. Check if each word in string begins with a capital letter. "
   ]
  },
  {
   "cell_type": "code",
   "execution_count": 8,
   "metadata": {},
   "outputs": [
    {
     "name": "stdout",
     "output_type": "stream",
     "text": [
      "enter a stringtoday is\n",
      "each word in string begins with a capital letter.\n"
     ]
    }
   ],
   "source": [
    "str1=input(\"enter a string\")\n",
    "words = str1.split()\n",
    "flag = 0\n",
    "for i in range(0,len(words)):\n",
    "    if(words[i].isupper):\n",
    "        flag=flag+1\n",
    "        \n",
    "if(flag==len(words)):\n",
    "    print(\"each word in string begins with a capital letter.\")\n",
    "else:\n",
    "    print(\"each word in string doesn't begins with a capital letter.\")"
   ]
  },
  {
   "cell_type": "markdown",
   "metadata": {},
   "source": [
    "## Question 5: Enter 2 input strings A and B. Check if A string contains B as a substring or not.\n"
   ]
  },
  {
   "cell_type": "code",
   "execution_count": null,
   "metadata": {},
   "outputs": [],
   "source": [
    "string = \"lazydude\"\n",
    "substring = \"lazy\"\n",
    "if substring in string:\n",
    "    print(\"Sustring is present\")\n",
    "else:\n",
    "    print(\"substring is not present\")\n",
    "    "
   ]
  },
  {
   "cell_type": "markdown",
   "metadata": {},
   "source": [
    "## Question 6: Enter 2 input strings A and B (with B as any substring to A). Find the index of occurrence of substring B in string A. "
   ]
  },
  {
   "cell_type": "code",
   "execution_count": null,
   "metadata": {},
   "outputs": [],
   "source": [
    "try:\n",
    "    string = \"Cutelittlepanda\"\n",
    "    substr = \"yy\"\n",
    "    print(\"Substring is found at: \",string.index(substr))\n",
    "except:\n",
    "    print(\"Not present\")\n"
   ]
  },
  {
   "cell_type": "markdown",
   "metadata": {},
   "source": [
    "## Question 7: Enter an input string. Count the total number of characters in a string (Do not use len function for this)."
   ]
  },
  {
   "cell_type": "code",
   "execution_count": null,
   "metadata": {},
   "outputs": [],
   "source": [
    "string = \"Today\"\n",
    "count = 0\n",
    "for i in string:\n",
    "    count = count + 1\n",
    "    \n",
    "print(count)"
   ]
  },
  {
   "cell_type": "markdown",
   "metadata": {},
   "source": [
    "## Question 8: Enter an input string with multiple ‘_’ (under-scores) in it. Split the string on underscores ‘_’."
   ]
  },
  {
   "cell_type": "code",
   "execution_count": null,
   "metadata": {},
   "outputs": [],
   "source": [
    "string = \"John_is_a_good_boy\"\n",
    "print(\"initial String: \",string)\n",
    "print(\"String is splitted at '_' : \",string.split('_'))"
   ]
  },
  {
   "cell_type": "markdown",
   "metadata": {},
   "source": [
    "## Question 9: Enter an input string A. Append 12345 at the end of string A. Display the modified string A."
   ]
  },
  {
   "cell_type": "code",
   "execution_count": null,
   "metadata": {},
   "outputs": [],
   "source": [
    "string = \"Lucky\"\n",
    "num = str(12345)\n",
    "print(string + num)"
   ]
  },
  {
   "cell_type": "markdown",
   "metadata": {},
   "source": [
    "## Question 10: Enter an input string A. Write a program to find the number of vowels, consonants, digits and white space characters in string A.\n"
   ]
  },
  {
   "cell_type": "code",
   "execution_count": null,
   "metadata": {},
   "outputs": [],
   "source": [
    "string = \"My username is IshaKataria7\"\n",
    "vowels = ['a','e','i','o','u']\n",
    "novowel = 0\n",
    "nospace = 0\n",
    "nodigits = 0\n",
    "for i in range(len(string)):\n",
    "    for j in range(0,5):\n",
    "         if(string[i] == vowels[j]):\n",
    "            novowel += 1\n",
    "    if(string[i] == ' '):\n",
    "        nospace += 1\n",
    "    if(string[i].isdigit()):\n",
    "        nodigits += 1\n",
    "print(\"Number of vowels in string is: \",novowel)\n",
    "print(\"Number of consonants in string is: \",26 - novowel)\n",
    "print(\"Number of spaces in string is: \",nospace)\n",
    "print(\"Number of digits in string is: \",nodigits)    \n"
   ]
  },
  {
   "cell_type": "markdown",
   "metadata": {},
   "source": [
    "# Question 11: Write different programs for handling of the following exceptions in python:"
   ]
  },
  {
   "cell_type": "markdown",
   "metadata": {},
   "source": [
    "## a. Type Error"
   ]
  },
  {
   "cell_type": "code",
   "execution_count": null,
   "metadata": {},
   "outputs": [],
   "source": [
    "string = \"example\"\n",
    "num = 123\n",
    "try :\n",
    "    nw = string + num\n",
    "except:\n",
    "    print(\"Type error\")"
   ]
  },
  {
   "cell_type": "markdown",
   "metadata": {},
   "source": [
    "## b. Zero Division Error"
   ]
  },
  {
   "cell_type": "code",
   "execution_count": null,
   "metadata": {},
   "outputs": [],
   "source": [
    "for i in range(-5,5):\n",
    "    try:\n",
    "        print (\"10/\",i,\" --> \", 100/i)\n",
    "    except:\n",
    "        print (\"error\")"
   ]
  },
  {
   "cell_type": "markdown",
   "metadata": {},
   "source": [
    "## c. OverFlow Error"
   ]
  },
  {
   "cell_type": "code",
   "execution_count": null,
   "metadata": {},
   "outputs": [],
   "source": [
    "i=1\n",
    "try:\n",
    "    f = 3.0**i\n",
    "    for i in range(100):\n",
    "        print (i, f)\n",
    "        f = f ** 2\n",
    "except OverflowError :\n",
    "    print ('Overflowed after ', f)"
   ]
  },
  {
   "cell_type": "markdown",
   "metadata": {},
   "source": [
    "## d. Assertion Error"
   ]
  },
  {
   "cell_type": "code",
   "execution_count": null,
   "metadata": {},
   "outputs": [],
   "source": [
    "try: \n",
    "    x = 1\n",
    "    y = 0\n",
    "    assert y != 0, \"Invalid Operation\"\n",
    "    print(x / y) \n",
    " \n",
    "except AssertionError as msg:\n",
    "    print(msg) \n"
   ]
  },
  {
   "cell_type": "markdown",
   "metadata": {},
   "source": [
    "## e. Key Error"
   ]
  },
  {
   "cell_type": "code",
   "execution_count": null,
   "metadata": {},
   "outputs": [],
   "source": [
    "try :\n",
    "    D1={'1':\"aa\", '2':\"bb\", '3':\"cc\"}\n",
    "    print(D1['4'])\n",
    "except KeyError :\n",
    "    print(\"Key error found\")"
   ]
  },
  {
   "cell_type": "markdown",
   "metadata": {},
   "source": [
    "## f. Index Error"
   ]
  },
  {
   "cell_type": "code",
   "execution_count": null,
   "metadata": {},
   "outputs": [],
   "source": [
    "try :\n",
    "    a = [1,4,2,4,4,5,6,]\n",
    "    for i in range(0,10):\n",
    "        print(a[i])\n",
    "except IndexError:\n",
    "    print(\"Index error\")"
   ]
  }
 ],
 "metadata": {
  "kernelspec": {
   "display_name": "Python 3",
   "language": "python",
   "name": "python3"
  },
  "language_info": {
   "codemirror_mode": {
    "name": "ipython",
    "version": 3
   },
   "file_extension": ".py",
   "mimetype": "text/x-python",
   "name": "python",
   "nbconvert_exporter": "python",
   "pygments_lexer": "ipython3",
   "version": "3.8.2"
  }
 },
 "nbformat": 4,
 "nbformat_minor": 4
}
